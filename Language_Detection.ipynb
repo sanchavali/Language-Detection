{
  "nbformat": 4,
  "nbformat_minor": 0,
  "metadata": {
    "colab": {
      "name": "Language Detection",
      "provenance": [],
      "collapsed_sections": [],
      "authorship_tag": "ABX9TyMXfp/IR5dF/q7FzKjNOLq3",
      "include_colab_link": true
    },
    "kernelspec": {
      "name": "python3",
      "display_name": "Python 3"
    },
    "language_info": {
      "name": "python"
    }
  },
  "cells": [
    {
      "cell_type": "markdown",
      "metadata": {
        "id": "view-in-github",
        "colab_type": "text"
      },
      "source": [
        "<a href=\"https://colab.research.google.com/github/sanchavali/Language-Detection/blob/main/Language_Detection.ipynb\" target=\"_parent\"><img src=\"https://colab.research.google.com/assets/colab-badge.svg\" alt=\"Open In Colab\"/></a>"
      ]
    },
    {
      "cell_type": "markdown",
      "metadata": {
        "id": "9qk6DCBZDVsz"
      },
      "source": [
        "##### required libraries"
      ]
    },
    {
      "cell_type": "code",
      "metadata": {
        "id": "O5lBiMHwDC0I"
      },
      "source": [
        "import pandas as pd\n",
        "import numpy as np\n",
        "import pycld2 as cld2\n",
        "import pyodbc\n",
        "import sys\n",
        "import sqlalchemy\n",
        "import urllib\n",
        "from sqlalchemy import create_engine, event\n",
        "import time"
      ],
      "execution_count": null,
      "outputs": []
    },
    {
      "cell_type": "code",
      "metadata": {
        "id": "OGSbfLQ3DJVM"
      },
      "source": [
        "cnxn=pyodbc.connect('Driver={ODBC Driver 17 for SQL Server};'\n",
        "                          'Server=;'\n",
        "                          'Database=RDR_SCRUB_DEV;'\n",
        "                          'Trusted_Connection=yes;')"
      ],
      "execution_count": null,
      "outputs": []
    },
    {
      "cell_type": "code",
      "metadata": {
        "id": "HiE4Z6ZXDL3r"
      },
      "source": [
        "cursor = cnxn.cursor()"
      ],
      "execution_count": null,
      "outputs": []
    },
    {
      "cell_type": "code",
      "metadata": {
        "id": "_obd4r2ADU8w"
      },
      "source": [
        "sqlquery = ('select FRST_ACTVY_ID, DPSCH_CMNTS from SC_RDR_RCA_FRST_DSPCH_CMNTS '\n",
        "'where FRST_DSPCH_CMNTS_QLFY_FLG=1;')"
      ],
      "execution_count": null,
      "outputs": []
    },
    {
      "cell_type": "code",
      "metadata": {
        "id": "NbMcVgOiDg8P"
      },
      "source": [
        "df=pd.read_sql_query(sqlquery,cnxn)"
      ],
      "execution_count": null,
      "outputs": []
    },
    {
      "cell_type": "markdown",
      "metadata": {
        "id": "vKSivmCJDjU3"
      },
      "source": [
        "##### replacing Non-printable characters"
      ]
    },
    {
      "cell_type": "code",
      "metadata": {
        "id": "oTjeTAgkDlKU"
      },
      "source": [
        "df[\"DPSCH_CMNTS1\"] = df[\"DPSCH_CMNTS\"].astype(str).apply(lambda x: ''.join([ch for ch in x if ch.isprintable()]))"
      ],
      "execution_count": null,
      "outputs": []
    },
    {
      "cell_type": "markdown",
      "metadata": {
        "id": "0a3M1ADPDo-p"
      },
      "source": [
        "##### Languge detection"
      ]
    },
    {
      "cell_type": "code",
      "metadata": {
        "id": "yGzJU5QvDoYw"
      },
      "source": [
        "df['language']=df['DPSCH_CMNTS1'].apply(lambda x:[r[0] for r in cld2.detect(x)[2]])"
      ],
      "execution_count": null,
      "outputs": []
    },
    {
      "cell_type": "code",
      "metadata": {
        "id": "y8ZhbThyDucm"
      },
      "source": [
        "df['language']=df['language'].apply(tuple)"
      ],
      "execution_count": null,
      "outputs": []
    },
    {
      "cell_type": "code",
      "metadata": {
        "id": "5PVzu-wvDxpk"
      },
      "source": [
        "column_sel = df[['FRST_ACTVY_ID','language']]\n",
        "df_Ins=column_sel.copy()"
      ],
      "execution_count": null,
      "outputs": []
    },
    {
      "cell_type": "code",
      "metadata": {
        "id": "JqPoxqL_DzlZ"
      },
      "source": [
        "df_Ins['language']=df_Ins['language'].apply(tuple)"
      ],
      "execution_count": null,
      "outputs": []
    },
    {
      "cell_type": "code",
      "metadata": {
        "id": "GRPpQdWAD2E1"
      },
      "source": [
        "df_Ins['language'] = df_Ins['language'].apply(lambda x: ', '.join(x) if isinstance(x,tuple) else x)"
      ],
      "execution_count": null,
      "outputs": []
    },
    {
      "cell_type": "markdown",
      "metadata": {
        "id": "2jkaj7BzD4H1"
      },
      "source": [
        "###### Insert data into sqlserver"
      ]
    },
    {
      "cell_type": "code",
      "metadata": {
        "id": "DClv9lcYD6SS"
      },
      "source": [
        "quoted = urllib.parse.quote_plus(\"DRIVER={ODBC Driver 17 for SQL Server};SERVER=;DATABASE=RDR_SCRUB_DEV;Trusted_Connection=yes;\")\n",
        "engine = sqlalchemy.create_engine('mssql+pyodbc:///?odbc_connect={}'.format(quoted))"
      ],
      "execution_count": null,
      "outputs": []
    },
    {
      "cell_type": "code",
      "metadata": {
        "id": "cPJvlp54D8yZ"
      },
      "source": [
        "#df_Ins.to_sql('SC_RDR_RCA_FRST_DPS_CMNTS_LANG', schema='dbo', con = engine, chunksize=200, method='multi', index=False, if_exists='replace')\n",
        "\n",
        "\n",
        "@event.listens_for(engine, 'before_cursor_execute')\n",
        "def receive_before_cursor_execute(conn, cursor, statement, params, context, executemany):\n",
        "    if executemany:\n",
        "        cursor.fast_executemany = True\n",
        "\n",
        "\n",
        "\n",
        "df_Ins.to_sql(\"SC_RDR_RCA_FRST_DPS_CMNTS_LANG\", con = engine, method='multi', if_exists='append', index=False)"
      ],
      "execution_count": null,
      "outputs": []
    }
  ]
}